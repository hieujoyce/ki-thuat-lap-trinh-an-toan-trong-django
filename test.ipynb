{
 "cells": [
  {
   "cell_type": "code",
   "execution_count": null,
   "metadata": {},
   "outputs": [
    {
     "ename": "",
     "evalue": "",
     "output_type": "error",
     "traceback": [
      "\u001b[1;31mRunning cells with 'ktltat' requires the ipykernel package.\n",
      "\u001b[1;31mRun the following command to install 'ipykernel' into the Python environment. \n",
      "\u001b[1;31mCommand: 'd:/Friday/Coder/Python/django/ki-thuat-lap-trinh-an-toan/ktltat/Scripts/python.exe -m pip install ipykernel -U --force-reinstall'"
     ]
    }
   ],
   "source": [
    "a = \"hello\";\n",
    "print(a);"
   ]
  }
 ],
 "metadata": {
  "kernelspec": {
   "display_name": "ktltat",
   "language": "python",
   "name": "python3"
  },
  "language_info": {
   "name": "python",
   "version": "3.9.13"
  },
  "orig_nbformat": 4,
  "vscode": {
   "interpreter": {
    "hash": "97a646faedbee5d53ddf72884f76f3e695e50e6570b5927505c76b1e61462df6"
   }
  }
 },
 "nbformat": 4,
 "nbformat_minor": 2
}
